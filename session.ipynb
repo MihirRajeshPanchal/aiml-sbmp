{
  "cells": [
    {
      "cell_type": "markdown",
      "metadata": {
        "id": "XupkXswZlkdK"
      },
      "source": [
        "# AI Models Presentation\n",
        "\n",
        "This notebook accompanies the presentation on AI models, covering key concepts and code demonstrations.\n"
      ]
    },
    {
      "cell_type": "markdown",
      "metadata": {
        "id": "6wkAxcnXlkdM"
      },
      "source": [
        "## 1. McCulloch Pitts Neuron Model\n",
        "\n",
        "The McCulloch-Pitts Neuron (1943) is a foundational model for neural networks, representing a simplified binary neuron.\n",
        "\n",
        "- **Inputs**: Binary (0 or 1)\n",
        "- **Weights**: Fixed weights for each input\n",
        "- **Threshold**: Sum of weighted inputs compared to a threshold\n",
        "- **Output**: Binary (0 or 1) based on whether the sum exceeds the threshold\n",
        "\n",
        "### Code Demonstration: McCulloch-Pitts Neuron\n"
      ]
    },
    {
      "cell_type": "code",
      "execution_count": null,
      "metadata": {
        "colab": {
          "base_uri": "https://localhost:8080/"
        },
        "id": "eGp76NjAlkdN",
        "outputId": "847a94e5-ee38-44a1-e312-1858a292b369"
      },
      "outputs": [
        {
          "name": "stdout",
          "output_type": "stream",
          "text": [
            "Inputs: [1, 1], Output: 1 (AND gate)\n",
            "Inputs: [1, 0], Output: 1 (OR gate)\n"
          ]
        }
      ],
      "source": [
        "def mcculloch_pitts_neuron(inputs, weights, threshold):\n",
        "    # Calculate weighted sum\n",
        "    weighted_sum = sum(x * w for x, w in zip(inputs, weights))\n",
        "    # Apply threshold\n",
        "    return 1 if weighted_sum >= threshold else 0\n",
        "\n",
        "\n",
        "# Example: AND gate\n",
        "inputs = [1, 1]  # Inputs x1, x2\n",
        "weights = [1, 1]  # Weights w1, w2\n",
        "threshold = 2\n",
        "\n",
        "output = mcculloch_pitts_neuron(inputs, weights, threshold)\n",
        "print(f\"Inputs: {inputs}, Output: {output} (AND gate)\")\n",
        "\n",
        "# Example: OR gate\n",
        "inputs = [1, 0]\n",
        "weights = [1, 1]\n",
        "threshold = 1\n",
        "\n",
        "output = mcculloch_pitts_neuron(inputs, weights, threshold)\n",
        "print(f\"Inputs: {inputs}, Output: {output} (OR gate)\")"
      ]
    },
    {
      "cell_type": "markdown",
      "metadata": {
        "id": "MRY_zaNslkdO"
      },
      "source": [
        "**Explanation**: The above code implements a McCulloch-Pitts neuron to simulate AND and OR logic gates by adjusting the threshold.\n"
      ]
    },
    {
      "cell_type": "markdown",
      "metadata": {
        "id": "V1X-x4NGlkdO"
      },
      "source": [
        "## 2. Perceptron\n",
        "\n",
        "Introduced by Frank Rosenblatt (1958), the Perceptron is a linear classifier that learns weights through training.\n",
        "\n",
        "- **Inputs**: Real-valued\n",
        "- **Weights**: Learned during training\n",
        "- **Activation**: Step function\n",
        "- **Learning Rule**: Adjust weights based on prediction errors\n",
        "\n",
        "Limitation: Can only solve linearly separable problems.\n",
        "\n",
        "### Code Demonstration: Perceptron\n"
      ]
    },
    {
      "cell_type": "code",
      "execution_count": null,
      "metadata": {
        "colab": {
          "base_uri": "https://localhost:8080/"
        },
        "id": "SaZAn9AmlkdO",
        "outputId": "b3a2186d-1cc9-4fe7-a688-f0d4fa28f33e"
      },
      "outputs": [
        {
          "name": "stdout",
          "output_type": "stream",
          "text": [
            "Inputs:\n",
            "[[0 0]\n",
            " [0 1]\n",
            " [1 0]\n",
            " [1 1]]\n",
            "True Labels: [0 0 0 1]\n",
            "Predictions: [0 0 0 1]\n"
          ]
        }
      ],
      "source": [
        "import numpy as np\n",
        "\n",
        "\n",
        "class Perceptron:\n",
        "    def __init__(self, learning_rate=0.1, n_iterations=100):\n",
        "        self.lr = learning_rate\n",
        "        self.n_iterations = n_iterations\n",
        "        self.weights = None\n",
        "        self.bias = None\n",
        "\n",
        "    def fit(self, X, y):\n",
        "        n_samples, n_features = X.shape\n",
        "        self.weights = np.zeros(n_features)\n",
        "        self.bias = 0\n",
        "\n",
        "        for _ in range(self.n_iterations):\n",
        "            for i in range(n_samples):\n",
        "                linear_output = np.dot(X[i], self.weights) + self.bias\n",
        "                y_pred = 1 if linear_output >= 0 else 0\n",
        "                update = self.lr * (y[i] - y_pred)\n",
        "                self.weights += update * X[i]\n",
        "                self.bias += update\n",
        "\n",
        "    def predict(self, X):\n",
        "        linear_output = np.dot(X, self.weights) + self.bias\n",
        "        return np.where(linear_output >= 0, 1, 0)\n",
        "\n",
        "\n",
        "# Example: AND gate dataset\n",
        "X = np.array([[0, 0], [0, 1], [1, 0], [1, 1]])\n",
        "y = np.array([0, 0, 0, 1])\n",
        "\n",
        "perceptron = Perceptron(learning_rate=0.1, n_iterations=10)\n",
        "perceptron.fit(X, y)\n",
        "predictions = perceptron.predict(X)\n",
        "\n",
        "print(f\"Inputs:\\n{X}\")\n",
        "print(f\"True Labels: {y}\")\n",
        "print(f\"Predictions: {predictions}\")"
      ]
    },
    {
      "cell_type": "markdown",
      "metadata": {
        "id": "WblTcE5glkdO"
      },
      "source": [
        "**Explanation**: This code implements a simple Perceptron to learn the AND gate function. It adjusts weights and bias using the perceptron learning rule.\n"
      ]
    },
    {
      "cell_type": "markdown",
      "metadata": {
        "id": "Z2IA_HnZlkdO"
      },
      "source": [
        "## 3. Multi-layer Perceptron\n",
        "\n",
        "A Multi-layer Perceptron (MLP) extends the perceptron with hidden layers, enabling it to solve non-linearly separable problems.\n",
        "\n",
        "- **Architecture**: Input layer, hidden layers, output layer\n",
        "- **Activation**: Non-linear functions (e.g., sigmoid, ReLU)\n",
        "- **Training**: Backpropagation with gradient descent\n",
        "\n",
        "**Note**: For simplicity, we'll skip coding an MLP here, as it requires more extensive implementation. Use libraries like scikit-learn or TensorFlow for real-world applications.\n"
      ]
    },
    {
      "cell_type": "markdown",
      "metadata": {
        "id": "ekrJrimGlkdO"
      },
      "source": [
        "## 4. Text Embeddings\n",
        "\n",
        "Text embeddings map words or sentences to dense vectors capturing semantic meaning.\n",
        "\n",
        "- **Word Embeddings**: Word2Vec, GloVe\n",
        "- **Sentence Embeddings**: BERT, Sentence-BERT\n",
        "- **Use Cases**: Text classification, semantic similarity, search\n",
        "\n",
        "Example: The embedding for \"king\" might be close to \"queen\" in vector space.\n"
      ]
    },
    {
      "cell_type": "markdown",
      "metadata": {
        "id": "6K85zJRHlkdO"
      },
      "source": [
        "## 5. Tokenization / Embeddings / Transformer Architecture\n",
        "\n",
        "- **Tokenization**: Splitting text into tokens (words, subwords, or characters)\n",
        "  - Example: \"I love AI\" → [\"I\", \"love\", \"AI\"]\n",
        "- **Embeddings**: Tokens mapped to vectors\n",
        "- **Transformer Architecture**:\n",
        "  - Encoder-Decoder structure\n",
        "  - Attention mechanisms (self-attention, multi-head attention)\n",
        "  - Used in models like BERT, GPT\n",
        "\n",
        "Key idea: Transformers process sequences in parallel, capturing long-range dependencies.\n"
      ]
    },
    {
      "cell_type": "markdown",
      "metadata": {
        "id": "3bAx4jTHlkdP"
      },
      "source": [
        "## 6. Softmax and Temperature\n",
        "\n",
        "- **Temperature**: Controls the softness of the distribution\n",
        "  - High temperature (T > 1): Smoother probabilities\n",
        "  - Low temperature (T < 1): Sharper probabilities\n",
        "\n",
        "### Code Demonstration: Softmax with Temperature\n"
      ]
    },
    {
      "cell_type": "code",
      "execution_count": null,
      "metadata": {
        "colab": {
          "base_uri": "https://localhost:8080/",
          "height": 539
        },
        "id": "_CJY8NVZlkdP",
        "outputId": "bbe77d5e-1437-4add-8310-ce99849b0225"
      },
      "outputs": [
        {
          "name": "stdout",
          "output_type": "stream",
          "text": [
            "Temperature 0.5: [0.016 0.117 0.867]\n",
            "Temperature 1.0: [0.09  0.245 0.665]\n",
            "Temperature 2.0: [0.186 0.307 0.506]\n"
          ]
        },
        {
          "data": {
            "image/png": "[encoded data removed]",
            "text/plain": [
              "<Figure size 800x500 with 1 Axes>"
            ]
          },
          "metadata": {},
          "output_type": "display_data"
        }
      ],
      "source": [
        "import numpy as np\n",
        "import matplotlib.pyplot as plt\n",
        "\n",
        "\n",
        "def softmax(x, temperature=1.0):\n",
        "    x = x / temperature\n",
        "    exp_x = np.exp(x - np.max(x))  # Subtract max for numerical stability\n",
        "    return exp_x / np.sum(exp_x)\n",
        "\n",
        "\n",
        "# Example logits\n",
        "logits = np.array([1.0, 2.0, 3.0])\n",
        "temperatures = [0.5, 1.0, 2.0]\n",
        "\n",
        "# Compute softmax for different temperatures\n",
        "for T in temperatures:\n",
        "    probs = softmax(logits, T)\n",
        "    print(f\"Temperature {T}: {probs.round(3)}\")\n",
        "\n",
        "# Visualization\n",
        "plt.figure(figsize=(8, 5))\n",
        "for T in temperatures:\n",
        "    probs = softmax(logits, T)\n",
        "    plt.plot(logits, probs, marker=\"o\", label=f\"Temperature={T}\")\n",
        "plt.xlabel(\"Logits\")\n",
        "plt.ylabel(\"Probability\")\n",
        "plt.title(\"Softmax with Different Temperatures\")\n",
        "plt.legend()\n",
        "plt.grid(True)\n",
        "plt.show()"
      ]
    },
    {
      "cell_type": "markdown",
      "metadata": {
        "id": "Vr45Ep7flkdP"
      },
      "source": [
        "**Explanation**: This code computes the softmax function for different temperature values and visualizes how temperature affects the probability distribution.\n"
      ]
    },
    {
      "cell_type": "markdown",
      "metadata": {
        "id": "goHeln_AlkdP"
      },
      "source": [
        "## 7. Hugging Face and Inference API\n",
        "\n",
        "Below are two demonstrations using Hugging Face's Inference API: text classification and text generation.\n"
      ]
    },
    {
      "cell_type": "code",
      "execution_count": 15,
      "metadata": {
        "id": "BlFcN_M_ndwL"
      },
      "outputs": [],
      "source": [
        "# Install dependencies (only run once)\n",
        "!pip install -q transformers torch\n",
        "\n",
        "from transformers import pipeline, logging\n",
        "logging.set_verbosity_error()\n",
        "import warnings\n",
        "warnings.filterwarnings('ignore')"
      ]
    },
    {
      "cell_type": "code",
      "execution_count": null,
      "metadata": {
        "id": "nXvZ4OuXnhMj"
      },
      "outputs": [],
      "source": [
        "# Text Classification\n",
        "classifier = pipeline(\n",
        "    \"sentiment-analysis\", model=\"distilbert-base-uncased-finetuned-sst-2-english\"\n",
        ")"
      ]
    },
    {
      "cell_type": "code",
      "execution_count": 17,
      "metadata": {
        "colab": {
          "base_uri": "https://localhost:8080/"
        },
        "id": "j-LKRwU8lkdP",
        "outputId": "a12c875b-e82a-431d-ed04-62b25d65812e"
      },
      "outputs": [
        {
          "name": "stdout",
          "output_type": "stream",
          "text": [
            "Enter some text upon which you want to do sentiment analysis : Teri ma ki chut\n",
            "Text Classification Example:\n",
            "Text: Teri ma ki chut\n",
            "Prediction: [{'label': 'NEGATIVE', 'score': 0.9781257510185242}]\n"
          ]
        }
      ],
      "source": [
        "text = input(\"Enter some text upon which you want to do sentiment analysis : \")\n",
        "classification_output = classifier(text)\n",
        "\n",
        "print(f\"Text Classification Example:\")\n",
        "print(f\"Text: {text}\")\n",
        "print(f\"Prediction: {classification_output}\")"
      ]
    },
    {
      "cell_type": "code",
      "execution_count": null,
      "metadata": {
        "id": "KSJIVqUHu0uz"
      },
      "outputs": [],
      "source": [
        "import os\n",
        "from openai import OpenAI\n",
        "\n",
        "os.environ[\"HF_TOKEN\"] = \"\""
      ]
    },
    {
      "cell_type": "code",
      "execution_count": 19,
      "metadata": {
        "id": "oeGvCFdutg3O"
      },
      "outputs": [],
      "source": [
        "client = OpenAI(\n",
        "    base_url=\"https://router.huggingface.co/v1\",\n",
        "    api_key=os.environ[\"HF_TOKEN\"],\n",
        ")"
      ]
    },
    {
      "cell_type": "code",
      "execution_count": null,
      "metadata": {
        "colab": {
          "base_uri": "https://localhost:8080/"
        },
        "id": "olr0THktt5FG",
        "outputId": "64deac5e-e5bd-4969-e3eb-67ab746c9e20"
      },
      "outputs": [
        {
          "name": "stdout",
          "output_type": "stream",
          "text": [
            "Ask Anything : dfdssfd\n",
            "It seems like you entered some random characters. If you'd like to talk about something, ask a question, or get information on a particular topic, I'm here to help. What's on your mind?\n"
          ]
        }
      ],
      "source": [
        "text = input(\"Ask Anything : \")\n",
        "completion = client.chat.completions.create(\n",
        "    model=\"meta-llama/Llama-3.1-8B-Instruct:novita\",\n",
        "    messages=[{\"role\": \"user\", \"content\": text}],\n",
        ")\n",
        "\n",
        "print(completion.choices[0].message.content)"
      ]
    },
    {
      "cell_type": "code",
      "execution_count": 20,
      "metadata": {
        "id": "mMIdSeexvIXM"
      },
      "outputs": [],
      "source": []
    }
  ],
  "metadata": {
    "accelerator": "GPU",
    "colab": {
      "gpuType": "T4",
      "provenance": []
    },
    "kernelspec": {
      "display_name": "Python 3",
      "name": "python3"
    },
    "language_info": {
      "codemirror_mode": {
        "name": "ipython",
        "version": 3
      },
      "file_extension": ".py",
      "mimetype": "text/x-python",
      "name": "python",
      "nbconvert_exporter": "python",
      "pygments_lexer": "ipython3",
      "version": "3.8.0"
    }
  },
  "nbformat": 4,
  "nbformat_minor": 0
}
